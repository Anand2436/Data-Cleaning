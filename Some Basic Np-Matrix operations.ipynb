{
 "cells": [
  {
   "cell_type": "code",
   "execution_count": 26,
   "metadata": {},
   "outputs": [
    {
     "name": "stdout",
     "output_type": "stream",
     "text": [
      "(2,)\n"
     ]
    },
    {
     "data": {
      "text/plain": [
       "array([ 2.,  1.])"
      ]
     },
     "execution_count": 26,
     "metadata": {},
     "output_type": "execute_result"
    }
   ],
   "source": [
    "import numpy as np\n",
    "a = np.zeros(2)\n",
    "print(a.shape)\n",
    "a = a + 2\n",
    "a[1] = 1\n",
    "a"
   ]
  },
  {
   "cell_type": "code",
   "execution_count": 28,
   "metadata": {},
   "outputs": [
    {
     "name": "stdout",
     "output_type": "stream",
     "text": [
      "(3, 2)\n",
      "(2,)\n",
      "(2,)\n",
      "7.0\n",
      "Taking Dot without transposing x[1] 7.0\n",
      "Taking Dot with transposing x[1] 7.0\n",
      "Matrix Multiplication is also the same 7.0\n"
     ]
    }
   ],
   "source": [
    "x = np.array([[1,2],[2,3],[3,4]])\n",
    "print(x.shape)\n",
    "print(x[0].shape)\n",
    "\n",
    "print((a * x[1]).shape)\n",
    "# shape is 2,0 of a, x[1] as well as of the result\n",
    "# element wise multiplication occurs\n",
    "# [2*2 = 4 , 1*3 = 3] \n",
    "# sum = 7\n",
    "\n",
    "print((a * x[1]).sum())\n",
    "\n",
    "# Sum will be same as below three\n",
    "print(\"Taking Dot without transposing x[1]\",np.dot(a,x[1]))\n",
    "\n",
    "print(\"Taking Dot with transposing x[1]\",np.dot(a,x[1].T))\n",
    "\n",
    "print(\"Matrix Multiplication is also the same\", np.matmul(a,x[1]))"
   ]
  },
  {
   "cell_type": "code",
   "execution_count": 36,
   "metadata": {},
   "outputs": [
    {
     "name": "stdout",
     "output_type": "stream",
     "text": [
      "With a's shape , sum ans shape change :\n",
      "[[ 4.  6.]\n",
      " [ 2.  3.]]\n",
      "(2, 2)\n",
      "15.0\n",
      "Dot product : [[ 4.  6.]\n",
      " [ 2.  3.]]\n",
      "\n",
      "Matrix Multiplication is also same: \n",
      "[[ 4.  6.]\n",
      " [ 2.  3.]]\n"
     ]
    }
   ],
   "source": [
    "a = a.reshape(-1,1)\n",
    "\n",
    "print(\"With a's shape , sum ans shape change :\")\n",
    "# [\n",
    "# [2 * 2 , 2*3 ],\n",
    "# [1 * 2 , 1*3 ]  \n",
    "# ]\n",
    "print((a * x[1]))\n",
    "\n",
    "print((a * x[1]).shape)\n",
    "\n",
    "print((a * x[1]).sum())\n",
    "\n",
    "\n",
    "# reshape x1 for matrix operations\n",
    "\n",
    "print(\"Dot product :\",np.dot(a,x[1].reshape(-1,1).T))\n",
    "print()\n",
    "\n",
    "print(\"Matrix Multiplication is also same: \")\n",
    "print(np.matmul(a,x[1].reshape(-1,1).T))"
   ]
  }
 ],
 "metadata": {
  "kernelspec": {
   "display_name": "Python 3",
   "language": "python",
   "name": "python3"
  },
  "language_info": {
   "codemirror_mode": {
    "name": "ipython",
    "version": 3
   },
   "file_extension": ".py",
   "mimetype": "text/x-python",
   "name": "python",
   "nbconvert_exporter": "python",
   "pygments_lexer": "ipython3",
   "version": "3.6.3"
  }
 },
 "nbformat": 4,
 "nbformat_minor": 2
}
